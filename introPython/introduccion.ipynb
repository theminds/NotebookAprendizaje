{
 "cells": [
  {
   "cell_type": "markdown",
   "id": "11d6557c-3902-4288-9f02-75db6c5cf905",
   "metadata": {},
   "source": [
    "# INTRODUCCIÓN A PYTHON"
   ]
  },
  {
   "cell_type": "markdown",
   "id": "b3b21c8f-0a02-41ac-ad36-53449b561d88",
   "metadata": {},
   "source": [
    "## LISTAS\n",
    "Las listas en Python son un tipo de estructura de datos que pueden contener diferentes tipos de valores, como números, cadenas de texto, booleanos u otras listas. Son mutables, lo que significa que sus elementos pueden modificarse después de su creación. Se accede a sus elementos mediante índices y permiten operaciones como agregar, eliminar u ordenar elementos.\n",
    "\n",
    "Puedes obtener más información de las listas en el siguiente link: https://docs.python.org/es/3.13/tutorial/datastructures.html "
   ]
  },
  {
   "cell_type": "code",
   "execution_count": 14,
   "id": "d5f6ec87-ef1b-4392-8483-4bccf40fa054",
   "metadata": {},
   "outputs": [
    {
     "name": "stdout",
     "output_type": "stream",
     "text": [
      "Subconjunto 1: [30, 40, 50, 60]\n",
      "Subconjunto 2: [10, 20, 30, 40]\n",
      "Subconjunto 3: [60, 70, 80, 'Python', True]\n",
      "Primer elemento: 10\n",
      "Último elemento: True\n",
      "Lista después de agregar elementos: [10, 20, 30, 'Nuevo', 40, 50, 60, 70, 80, 'Python', True, 100]\n",
      "Lista después de eliminar elementos: [10, 20, 'Nuevo', 40, 50, 70, 80, 'Python', True, 100]\n",
      "Elemento eliminado con pop: 60\n"
     ]
    }
   ],
   "source": [
    "# 1. Crear una lista \n",
    "mi_lista = [10, 20, 30, 40, 50, 60, 70, 80, \"Python\", True]\n",
    "\n",
    "# 2. Crear subconjuntos de la lista (Slicing)\n",
    "# [START:FINISH], FINISH no se muestra sino el número anterior\n",
    "# [:FINISH], START no aparece entonces se esta tomando desde el elemento inicial de la lista\n",
    "# [START:], FINISH no aparece entonces se está tomando hasta el último elemento de la lista\n",
    "sub_lista1 = mi_lista[2:6]  \n",
    "sub_lista2 = mi_lista[:4]   \n",
    "sub_lista3 = mi_lista[5:]   \n",
    "\n",
    "print(\"Subconjunto 1:\", sub_lista1)\n",
    "print(\"Subconjunto 2:\", sub_lista2)\n",
    "print(\"Subconjunto 3:\", sub_lista3)\n",
    "\n",
    "# 3. Acceder a elementos por índice\n",
    "# lista[#], donde # es el índice que del elemento que se desea obtener\n",
    "# Si # es negativo se está intentando acceder al elemento desde el último lugar\n",
    "primer_elemento = mi_lista[0]    \n",
    "ultimo_elemento = mi_lista[-1]   \n",
    "\n",
    "print(\"Primer elemento:\", primer_elemento)\n",
    "print(\"Último elemento:\", ultimo_elemento)\n",
    "\n",
    "# 4. Agregar elementos a la lista\n",
    "mi_lista.append(100)       # Agregar un elemento al final\n",
    "mi_lista.insert(3, \"Nuevo\")  # Insertar en una posición específica\n",
    "print(\"Lista después de agregar elementos:\", mi_lista)\n",
    "\n",
    "# 5. Eliminar elementos de la lista\n",
    "mi_lista.remove(30)  # Eliminar por valor\n",
    "elemento_eliminado = mi_lista.pop(5)  # Eliminar por índice y guardar el valor eliminado\n",
    "print(\"Lista después de eliminar elementos:\", mi_lista)\n",
    "print(\"Elemento eliminado con pop:\", elemento_eliminado)\n"
   ]
  },
  {
   "cell_type": "markdown",
   "id": "61f920c3-149e-47e9-84c3-2d4c15d8d2f4",
   "metadata": {},
   "source": [
    "# FUNCIONES y MÉTODOS\n",
    "En general las funciones y métodos se utilizan para obtener resúmenes de los datos que tenemos inicialmente en un dato del tipo estructura.\n",
    "\n",
    "| Función/Método        | Descripción |\r\n",
    "|-----------------------|-------------|\r\n",
    "| `len(lista)`         | Devuelve la cantidad de elementos en la lista |\r\n",
    "| `sum(lista)`         | Suma todos los elementos de la lista |\r\n",
    "| `max(lista)`         | Devuelve el mayor elemento |\r\n",
    "| `min(lista)`         | Devuelve el menor elemento |\r\n",
    "| `sorted(lista)`      | Devuelve una lista ordenada sin modificar la original |\r\n",
    "| `append(x)`         | Agrega `x` al final de la lista |\r\n",
    "| `insert(i, x)`      | Inserta `x` en la posición `i` |\r\n",
    "| `extend(lista2)`    | Agrega los elementos de `lista2` al final de la lista |\r\n",
    "| `remove(x)`        | Elimina la primera aparición de `x` |\r\n",
    "| `pop(i)`           | Elimina y devuelve el elemento en la posición `i` |\r\n",
    "| `index(x)`         | Devuelve la primera posición de `x` en la lista |\r\n",
    "| `count(x)`         | Cuenta cuántas veces aparece `x` |\r\n",
    "| `reverse()`        | Invierte el orden de la lista |\r\n",
    "| `sort()`           | Ordena la lista en orden ascendente |\r\n",
    "| `sort(reverse=True)` | Ordena la lista en orden descendente |\r\n",
    "\n"
   ]
  },
  {
   "cell_type": "markdown",
   "id": "c58bb8a8-7e50-44b3-acc4-562813e01ad1",
   "metadata": {},
   "source": [
    "# Numpy\n",
    "NumPy es una biblioteca fundamental para la computación numérica en Python, optimizada para el manejo de arrays multidimensionales y operaciones matemáticas eficientes. Es más rápido y consume menos memoria que las listas."
   ]
  },
  {
   "cell_type": "code",
   "execution_count": 21,
   "id": "a33ac24d-141e-499c-8a4c-84bc125672d3",
   "metadata": {},
   "outputs": [
    {
     "name": "stdout",
     "output_type": "stream",
     "text": [
      "Array desde lista: [1 2 3 4 5]\n",
      "\n",
      "Matriz 2D:\n",
      " [[10 20 30]\n",
      " [40 50 60]]\n",
      "Elemento en fila 1, columna 2: 60\n",
      "\n",
      "Datos aleatorios (distribución normal): [-1.14799234 -0.03584991 -0.04154865 -0.35245583  0.45578021 -2.03911729\n",
      " -0.88599628 -0.50546419 -0.47471308 -0.23469205]\n"
     ]
    }
   ],
   "source": [
    "import numpy as np\n",
    "\n",
    "# 1. Convertir listas en arrays\n",
    "lista = [1, 2, 3, 4, 5]\n",
    "array = np.array(lista)\n",
    "print(\"Array desde lista:\", array)\n",
    "\n",
    "# 2. Crear un array 2D y acceder a elementos\n",
    "matriz = np.array([[10, 20, 30], [40, 50, 60]])\n",
    "print(\"\\nMatriz 2D:\\n\", matriz)\n",
    "print(\"Elemento en fila 1, columna 2:\", matriz[1, 2])  # Accede al valor 60\n",
    "\n",
    "# 3. Generar datos con np.random.normal (distribución normal)\n",
    "datos_normales = np.random.normal(loc=0, scale=1, size=10)  # Media=0, Desviación estándar=1, 10 valores\n",
    "print(\"\\nDatos aleatorios (distribución normal):\", datos_normales)\n"
   ]
  },
  {
   "cell_type": "code",
   "execution_count": null,
   "id": "56f24649-a2ca-4723-84c3-5e03a978af57",
   "metadata": {},
   "outputs": [],
   "source": []
  }
 ],
 "metadata": {
  "kernelspec": {
   "display_name": "Python 3 (ipykernel)",
   "language": "python",
   "name": "python3"
  },
  "language_info": {
   "codemirror_mode": {
    "name": "ipython",
    "version": 3
   },
   "file_extension": ".py",
   "mimetype": "text/x-python",
   "name": "python",
   "nbconvert_exporter": "python",
   "pygments_lexer": "ipython3",
   "version": "3.11.7"
  },
  "widgets": {
   "application/vnd.jupyter.widget-state+json": {
    "state": {},
    "version_major": 2,
    "version_minor": 0
   }
  }
 },
 "nbformat": 4,
 "nbformat_minor": 5
}
